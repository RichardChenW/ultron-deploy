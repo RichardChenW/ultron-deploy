{
 "cells": [
  {
   "cell_type": "code",
   "execution_count": 8,
   "metadata": {},
   "outputs": [],
   "source": [
    "import joblib \n",
    "import xgboost as xgb\n",
    "import numpy as np"
   ]
  },
  {
   "attachments": {},
   "cell_type": "markdown",
   "metadata": {},
   "source": [
    "读取模型"
   ]
  },
  {
   "cell_type": "code",
   "execution_count": 4,
   "metadata": {},
   "outputs": [],
   "source": [
    "model = joblib.load('./model/xgb.pkl')"
   ]
  },
  {
   "cell_type": "code",
   "execution_count": 16,
   "metadata": {},
   "outputs": [
    {
     "data": {
      "text/plain": [
       "array([0.34912935], dtype=float32)"
      ]
     },
     "execution_count": 16,
     "metadata": {},
     "output_type": "execute_result"
    }
   ],
   "source": [
    "data = np.array([1,2,3,4,5,6,7,8,9,10,11,12,13,14]).reshape(1, -1)\n",
    "model.predict(xgb.DMatrix(data),validate_features=False)"
   ]
  },
  {
   "attachments": {},
   "cell_type": "markdown",
   "metadata": {},
   "source": [
    "preprosessing( dict->list)"
   ]
  },
  {
   "cell_type": "code",
   "execution_count": 34,
   "metadata": {},
   "outputs": [],
   "source": [
    "from model.model_col import MOCK_DATA\n",
    "from sklearn.base import BaseEstimator, TransformerMixin\n",
    "from sklearn.pipeline import Pipeline\n",
    "import joblib \n",
    "import xgboost as xgb\n",
    "import numpy as np"
   ]
  },
  {
   "cell_type": "code",
   "execution_count": 17,
   "metadata": {},
   "outputs": [],
   "source": [
    "# 构建 pipeline\n",
    "class DataPreprocess(BaseEstimator, TransformerMixin):\n",
    "\n",
    "    def __init__(self) -> None:\n",
    "        pass\n",
    "\n",
    "    def fit(self, X, y=None):\n",
    "        return self\n",
    "\n",
    "    def transform(self, X):\n",
    "        X = {\n",
    "            'age': 0,\n",
    "            'hire_date': 0,\n",
    "            'emp_time_tra_bin': 0,\n",
    "            'address_time_tra_bin': 0,\n",
    "            'bank_time_bin': 0,\n",
    "            'provider_id_bin': 0,\n",
    "            'channel_id_bin': 0,\n",
    "            'routing_number_verify': 0,\n",
    "            'routing_number_bin': 0,\n",
    "            'net_monthly_bin': 0,\n",
    "            'state_final_bin': 0,\n",
    "            'job_title_size_bin': 0,\n",
    "            'aff_id_bin': 0,\n",
    "            'request_amount_bin': 0,\n",
    "        }\n",
    "        return X"
   ]
  },
  {
   "cell_type": "code",
   "execution_count": 24,
   "metadata": {},
   "outputs": [],
   "source": [
    "class DataFactory(BaseEstimator, TransformerMixin):\n",
    "    def __init__(self) -> None:\n",
    "        pass\n",
    "    def fit(self, X, y=None):\n",
    "        return self\n",
    "    def transform(self, X):\n",
    "        return X.values()\n",
    "\n",
    "class ModelPredict(BaseEstimator, TransformerMixin):\n",
    "    def __init__(self,model) -> None:\n",
    "        self.model = model\n",
    "        \n",
    "    def fit(self, X, y=None):\n",
    "        return self\n",
    "    def predict(self, X):\n",
    "        return self.model.predict(xgb.DMatrix(X),validate_features=False)"
   ]
  },
  {
   "cell_type": "code",
   "execution_count": 35,
   "metadata": {},
   "outputs": [],
   "source": [
    "model = joblib.load('./model/xgb.pkl')\n",
    "\n",
    "pipe = Pipeline([\n",
    "    ('data_preprocess', DataPreprocess()),\n",
    "    ('data_factory', DataFactory())])"
   ]
  }
 ],
 "metadata": {
  "kernelspec": {
   "display_name": "base",
   "language": "python",
   "name": "python3"
  },
  "language_info": {
   "codemirror_mode": {
    "name": "ipython",
    "version": 3
   },
   "file_extension": ".py",
   "mimetype": "text/x-python",
   "name": "python",
   "nbconvert_exporter": "python",
   "pygments_lexer": "ipython3",
   "version": "3.9.16"
  },
  "orig_nbformat": 4
 },
 "nbformat": 4,
 "nbformat_minor": 2
}
